{
 "cells": [
  {
   "metadata": {
    "ExecuteTime": {
     "end_time": "2025-05-06T18:52:34.297789Z",
     "start_time": "2025-05-06T18:52:33.470240Z"
    }
   },
   "cell_type": "code",
   "outputs": [],
   "execution_count": 6,
   "source": [
    "import pandas as pd\n",
    "\n",
    "splits = {'train': 'split/train-00000-of-00001.parquet', 'validation': 'split/validation-00000-of-00001.parquet', 'test': 'split/test-00000-of-00001.parquet'}\n",
    "df = pd.read_parquet(\"hf://datasets/dair-ai/emotion/\" + splits[\"train\"])"
   ],
   "id": "d74d203c"
  },
  {
   "cell_type": "code",
   "id": "2c8846ac",
   "metadata": {
    "ExecuteTime": {
     "end_time": "2025-05-06T18:52:34.907096Z",
     "start_time": "2025-05-06T18:52:34.901573Z"
    }
   },
   "source": [
    "df.head()"
   ],
   "outputs": [
    {
     "data": {
      "text/plain": [
       "                                                text  label\n",
       "0                            i didnt feel humiliated      0\n",
       "1  i can go from feeling so hopeless to so damned...      0\n",
       "2   im grabbing a minute to post i feel greedy wrong      3\n",
       "3  i am ever feeling nostalgic about the fireplac...      2\n",
       "4                               i am feeling grouchy      3"
      ],
      "text/html": [
       "<div>\n",
       "<style scoped>\n",
       "    .dataframe tbody tr th:only-of-type {\n",
       "        vertical-align: middle;\n",
       "    }\n",
       "\n",
       "    .dataframe tbody tr th {\n",
       "        vertical-align: top;\n",
       "    }\n",
       "\n",
       "    .dataframe thead th {\n",
       "        text-align: right;\n",
       "    }\n",
       "</style>\n",
       "<table border=\"1\" class=\"dataframe\">\n",
       "  <thead>\n",
       "    <tr style=\"text-align: right;\">\n",
       "      <th></th>\n",
       "      <th>text</th>\n",
       "      <th>label</th>\n",
       "    </tr>\n",
       "  </thead>\n",
       "  <tbody>\n",
       "    <tr>\n",
       "      <th>0</th>\n",
       "      <td>i didnt feel humiliated</td>\n",
       "      <td>0</td>\n",
       "    </tr>\n",
       "    <tr>\n",
       "      <th>1</th>\n",
       "      <td>i can go from feeling so hopeless to so damned...</td>\n",
       "      <td>0</td>\n",
       "    </tr>\n",
       "    <tr>\n",
       "      <th>2</th>\n",
       "      <td>im grabbing a minute to post i feel greedy wrong</td>\n",
       "      <td>3</td>\n",
       "    </tr>\n",
       "    <tr>\n",
       "      <th>3</th>\n",
       "      <td>i am ever feeling nostalgic about the fireplac...</td>\n",
       "      <td>2</td>\n",
       "    </tr>\n",
       "    <tr>\n",
       "      <th>4</th>\n",
       "      <td>i am feeling grouchy</td>\n",
       "      <td>3</td>\n",
       "    </tr>\n",
       "  </tbody>\n",
       "</table>\n",
       "</div>"
      ]
     },
     "execution_count": 7,
     "metadata": {},
     "output_type": "execute_result"
    }
   ],
   "execution_count": 7
  },
  {
   "cell_type": "code",
   "id": "6a7f3c19",
   "metadata": {
    "ExecuteTime": {
     "end_time": "2025-05-06T18:52:35.971179Z",
     "start_time": "2025-05-06T18:52:35.964206Z"
    }
   },
   "source": [
    "df.label.value_counts()"
   ],
   "outputs": [
    {
     "data": {
      "text/plain": [
       "label\n",
       "1    5362\n",
       "0    4666\n",
       "3    2159\n",
       "4    1937\n",
       "2    1304\n",
       "5     572\n",
       "Name: count, dtype: int64"
      ]
     },
     "execution_count": 8,
     "metadata": {},
     "output_type": "execute_result"
    }
   ],
   "execution_count": 8
  },
  {
   "cell_type": "code",
   "id": "85f63626",
   "metadata": {
    "ExecuteTime": {
     "end_time": "2025-05-06T21:28:09.151057Z",
     "start_time": "2025-05-06T21:28:06.257283Z"
    }
   },
   "source": [
    "from DatasetLoad import Dataset\n",
    "\n",
    "dataset = Dataset()\n",
    "df = dataset()"
   ],
   "outputs": [],
   "execution_count": 1
  },
  {
   "metadata": {
    "ExecuteTime": {
     "end_time": "2025-05-06T21:28:09.241190Z",
     "start_time": "2025-05-06T21:28:09.238306Z"
    }
   },
   "cell_type": "code",
   "source": "type(df)",
   "id": "99600a1123b61ecf",
   "outputs": [
    {
     "data": {
      "text/plain": [
       "pandas.core.frame.DataFrame"
      ]
     },
     "execution_count": 2,
     "metadata": {},
     "output_type": "execute_result"
    }
   ],
   "execution_count": 2
  },
  {
   "metadata": {
    "ExecuteTime": {
     "end_time": "2025-05-06T21:28:09.252498Z",
     "start_time": "2025-05-06T21:28:09.248557Z"
    }
   },
   "cell_type": "code",
   "source": "df",
   "id": "a6c09735d24ebfc5",
   "outputs": [
    {
     "data": {
      "text/plain": [
       "                                                    text  label\n",
       "0                                i didnt feel humiliated      0\n",
       "1      i can go from feeling so hopeless to so damned...      0\n",
       "2       im grabbing a minute to post i feel greedy wrong      3\n",
       "3      i am ever feeling nostalgic about the fireplac...      2\n",
       "4                                   i am feeling grouchy      3\n",
       "...                                                  ...    ...\n",
       "15995  i just had a very brief time in the beanbag an...      0\n",
       "15996  i am now turning and i feel pathetic that i am...      0\n",
       "15997                     i feel strong and good overall      1\n",
       "15998  i feel like this was such a rude comment and i...      3\n",
       "15999  i know a lot but i feel so stupid because i ca...      0\n",
       "\n",
       "[16000 rows x 2 columns]"
      ],
      "text/html": [
       "<div>\n",
       "<style scoped>\n",
       "    .dataframe tbody tr th:only-of-type {\n",
       "        vertical-align: middle;\n",
       "    }\n",
       "\n",
       "    .dataframe tbody tr th {\n",
       "        vertical-align: top;\n",
       "    }\n",
       "\n",
       "    .dataframe thead th {\n",
       "        text-align: right;\n",
       "    }\n",
       "</style>\n",
       "<table border=\"1\" class=\"dataframe\">\n",
       "  <thead>\n",
       "    <tr style=\"text-align: right;\">\n",
       "      <th></th>\n",
       "      <th>text</th>\n",
       "      <th>label</th>\n",
       "    </tr>\n",
       "  </thead>\n",
       "  <tbody>\n",
       "    <tr>\n",
       "      <th>0</th>\n",
       "      <td>i didnt feel humiliated</td>\n",
       "      <td>0</td>\n",
       "    </tr>\n",
       "    <tr>\n",
       "      <th>1</th>\n",
       "      <td>i can go from feeling so hopeless to so damned...</td>\n",
       "      <td>0</td>\n",
       "    </tr>\n",
       "    <tr>\n",
       "      <th>2</th>\n",
       "      <td>im grabbing a minute to post i feel greedy wrong</td>\n",
       "      <td>3</td>\n",
       "    </tr>\n",
       "    <tr>\n",
       "      <th>3</th>\n",
       "      <td>i am ever feeling nostalgic about the fireplac...</td>\n",
       "      <td>2</td>\n",
       "    </tr>\n",
       "    <tr>\n",
       "      <th>4</th>\n",
       "      <td>i am feeling grouchy</td>\n",
       "      <td>3</td>\n",
       "    </tr>\n",
       "    <tr>\n",
       "      <th>...</th>\n",
       "      <td>...</td>\n",
       "      <td>...</td>\n",
       "    </tr>\n",
       "    <tr>\n",
       "      <th>15995</th>\n",
       "      <td>i just had a very brief time in the beanbag an...</td>\n",
       "      <td>0</td>\n",
       "    </tr>\n",
       "    <tr>\n",
       "      <th>15996</th>\n",
       "      <td>i am now turning and i feel pathetic that i am...</td>\n",
       "      <td>0</td>\n",
       "    </tr>\n",
       "    <tr>\n",
       "      <th>15997</th>\n",
       "      <td>i feel strong and good overall</td>\n",
       "      <td>1</td>\n",
       "    </tr>\n",
       "    <tr>\n",
       "      <th>15998</th>\n",
       "      <td>i feel like this was such a rude comment and i...</td>\n",
       "      <td>3</td>\n",
       "    </tr>\n",
       "    <tr>\n",
       "      <th>15999</th>\n",
       "      <td>i know a lot but i feel so stupid because i ca...</td>\n",
       "      <td>0</td>\n",
       "    </tr>\n",
       "  </tbody>\n",
       "</table>\n",
       "<p>16000 rows × 2 columns</p>\n",
       "</div>"
      ]
     },
     "execution_count": 3,
     "metadata": {},
     "output_type": "execute_result"
    }
   ],
   "execution_count": 3
  },
  {
   "metadata": {
    "ExecuteTime": {
     "end_time": "2025-05-06T21:28:10.122260Z",
     "start_time": "2025-05-06T21:28:09.278213Z"
    }
   },
   "cell_type": "code",
   "source": [
    "from TextPreprocessing import TextPreprocessing\n",
    "text_preprocessing = TextPreprocessing()"
   ],
   "id": "d911a8f8c0723069",
   "outputs": [],
   "execution_count": 4
  },
  {
   "metadata": {
    "ExecuteTime": {
     "end_time": "2025-05-06T21:29:14.712417Z",
     "start_time": "2025-05-06T21:28:10.173548Z"
    }
   },
   "cell_type": "code",
   "source": "df['processed_text'] = df['text'].apply(lambda  x: text_preprocessing.preprocess_text(x))",
   "id": "1b6eec220d24c81c",
   "outputs": [],
   "execution_count": 5
  },
  {
   "metadata": {
    "ExecuteTime": {
     "end_time": "2025-05-06T21:29:14.780291Z",
     "start_time": "2025-05-06T21:29:14.777124Z"
    }
   },
   "cell_type": "code",
   "source": "df.head()",
   "id": "3025ae38e63c7163",
   "outputs": [
    {
     "data": {
      "text/plain": [
       "                                                text  label  \\\n",
       "0                            i didnt feel humiliated      0   \n",
       "1  i can go from feeling so hopeless to so damned...      0   \n",
       "2   im grabbing a minute to post i feel greedy wrong      3   \n",
       "3  i am ever feeling nostalgic about the fireplac...      2   \n",
       "4                               i am feeling grouchy      3   \n",
       "\n",
       "                            processed_text  \n",
       "0                      not feel humiliated  \n",
       "1  feel hopeless damned hopeful care awake  \n",
       "2     m grab minute post feel greedy wrong  \n",
       "3   feel nostalgic fireplace know property  \n",
       "4                             feel grouchy  "
      ],
      "text/html": [
       "<div>\n",
       "<style scoped>\n",
       "    .dataframe tbody tr th:only-of-type {\n",
       "        vertical-align: middle;\n",
       "    }\n",
       "\n",
       "    .dataframe tbody tr th {\n",
       "        vertical-align: top;\n",
       "    }\n",
       "\n",
       "    .dataframe thead th {\n",
       "        text-align: right;\n",
       "    }\n",
       "</style>\n",
       "<table border=\"1\" class=\"dataframe\">\n",
       "  <thead>\n",
       "    <tr style=\"text-align: right;\">\n",
       "      <th></th>\n",
       "      <th>text</th>\n",
       "      <th>label</th>\n",
       "      <th>processed_text</th>\n",
       "    </tr>\n",
       "  </thead>\n",
       "  <tbody>\n",
       "    <tr>\n",
       "      <th>0</th>\n",
       "      <td>i didnt feel humiliated</td>\n",
       "      <td>0</td>\n",
       "      <td>not feel humiliated</td>\n",
       "    </tr>\n",
       "    <tr>\n",
       "      <th>1</th>\n",
       "      <td>i can go from feeling so hopeless to so damned...</td>\n",
       "      <td>0</td>\n",
       "      <td>feel hopeless damned hopeful care awake</td>\n",
       "    </tr>\n",
       "    <tr>\n",
       "      <th>2</th>\n",
       "      <td>im grabbing a minute to post i feel greedy wrong</td>\n",
       "      <td>3</td>\n",
       "      <td>m grab minute post feel greedy wrong</td>\n",
       "    </tr>\n",
       "    <tr>\n",
       "      <th>3</th>\n",
       "      <td>i am ever feeling nostalgic about the fireplac...</td>\n",
       "      <td>2</td>\n",
       "      <td>feel nostalgic fireplace know property</td>\n",
       "    </tr>\n",
       "    <tr>\n",
       "      <th>4</th>\n",
       "      <td>i am feeling grouchy</td>\n",
       "      <td>3</td>\n",
       "      <td>feel grouchy</td>\n",
       "    </tr>\n",
       "  </tbody>\n",
       "</table>\n",
       "</div>"
      ]
     },
     "execution_count": 6,
     "metadata": {},
     "output_type": "execute_result"
    }
   ],
   "execution_count": 6
  },
  {
   "metadata": {
    "ExecuteTime": {
     "end_time": "2025-05-06T21:41:43.949034Z",
     "start_time": "2025-05-06T21:41:43.882685Z"
    }
   },
   "cell_type": "code",
   "source": [
    "from FeatureEngineering import  FeatureEngineering\n",
    "\n",
    "feature_engineering = FeatureEngineering(df, 100)\n",
    "word2vec = feature_engineering()"
   ],
   "id": "fe52f4e992900405",
   "outputs": [],
   "execution_count": 64
  },
  {
   "metadata": {
    "ExecuteTime": {
     "end_time": "2025-05-06T21:42:58.592277Z",
     "start_time": "2025-05-06T21:42:58.148427Z"
    }
   },
   "cell_type": "code",
   "source": "df['vectorized_words'] = df.processed_text.apply(lambda x: feature_engineering.get_document_vectors(x))",
   "id": "f92a22d9284bc3a8",
   "outputs": [],
   "execution_count": 72
  },
  {
   "metadata": {
    "ExecuteTime": {
     "end_time": "2025-05-06T21:42:58.605762Z",
     "start_time": "2025-05-06T21:42:58.601198Z"
    }
   },
   "cell_type": "code",
   "source": "df.head()",
   "id": "66d10526f019f5a1",
   "outputs": [
    {
     "data": {
      "text/plain": [
       "                                                text  label  \\\n",
       "0                            i didnt feel humiliated      0   \n",
       "1  i can go from feeling so hopeless to so damned...      0   \n",
       "2   im grabbing a minute to post i feel greedy wrong      3   \n",
       "3  i am ever feeling nostalgic about the fireplac...      2   \n",
       "4                               i am feeling grouchy      3   \n",
       "\n",
       "                            processed_text  \\\n",
       "0                      not feel humiliated   \n",
       "1  feel hopeless damned hopeful care awake   \n",
       "2     m grab minute post feel greedy wrong   \n",
       "3   feel nostalgic fireplace know property   \n",
       "4                             feel grouchy   \n",
       "\n",
       "                                    vectorized_words  \n",
       "0  [-0.005296618, 0.0034479387, 0.0022084336, 0.0...  \n",
       "1  [-0.0036911462, 0.002918601, 0.0017188427, 0.0...  \n",
       "2  [-0.005523831, 0.00268102, 0.0010589175, 0.002...  \n",
       "3  [-0.0049183904, 0.0024992197, 0.002200558, 0.0...  \n",
       "4  [-0.0033438364, 0.0014748467, 0.0025369273, 0....  "
      ],
      "text/html": [
       "<div>\n",
       "<style scoped>\n",
       "    .dataframe tbody tr th:only-of-type {\n",
       "        vertical-align: middle;\n",
       "    }\n",
       "\n",
       "    .dataframe tbody tr th {\n",
       "        vertical-align: top;\n",
       "    }\n",
       "\n",
       "    .dataframe thead th {\n",
       "        text-align: right;\n",
       "    }\n",
       "</style>\n",
       "<table border=\"1\" class=\"dataframe\">\n",
       "  <thead>\n",
       "    <tr style=\"text-align: right;\">\n",
       "      <th></th>\n",
       "      <th>text</th>\n",
       "      <th>label</th>\n",
       "      <th>processed_text</th>\n",
       "      <th>vectorized_words</th>\n",
       "    </tr>\n",
       "  </thead>\n",
       "  <tbody>\n",
       "    <tr>\n",
       "      <th>0</th>\n",
       "      <td>i didnt feel humiliated</td>\n",
       "      <td>0</td>\n",
       "      <td>not feel humiliated</td>\n",
       "      <td>[-0.005296618, 0.0034479387, 0.0022084336, 0.0...</td>\n",
       "    </tr>\n",
       "    <tr>\n",
       "      <th>1</th>\n",
       "      <td>i can go from feeling so hopeless to so damned...</td>\n",
       "      <td>0</td>\n",
       "      <td>feel hopeless damned hopeful care awake</td>\n",
       "      <td>[-0.0036911462, 0.002918601, 0.0017188427, 0.0...</td>\n",
       "    </tr>\n",
       "    <tr>\n",
       "      <th>2</th>\n",
       "      <td>im grabbing a minute to post i feel greedy wrong</td>\n",
       "      <td>3</td>\n",
       "      <td>m grab minute post feel greedy wrong</td>\n",
       "      <td>[-0.005523831, 0.00268102, 0.0010589175, 0.002...</td>\n",
       "    </tr>\n",
       "    <tr>\n",
       "      <th>3</th>\n",
       "      <td>i am ever feeling nostalgic about the fireplac...</td>\n",
       "      <td>2</td>\n",
       "      <td>feel nostalgic fireplace know property</td>\n",
       "      <td>[-0.0049183904, 0.0024992197, 0.002200558, 0.0...</td>\n",
       "    </tr>\n",
       "    <tr>\n",
       "      <th>4</th>\n",
       "      <td>i am feeling grouchy</td>\n",
       "      <td>3</td>\n",
       "      <td>feel grouchy</td>\n",
       "      <td>[-0.0033438364, 0.0014748467, 0.0025369273, 0....</td>\n",
       "    </tr>\n",
       "  </tbody>\n",
       "</table>\n",
       "</div>"
      ]
     },
     "execution_count": 73,
     "metadata": {},
     "output_type": "execute_result"
    }
   ],
   "execution_count": 73
  },
  {
   "metadata": {
    "ExecuteTime": {
     "end_time": "2025-05-06T21:43:02.624219Z",
     "start_time": "2025-05-06T21:43:02.615794Z"
    }
   },
   "cell_type": "code",
   "source": [
    "from sklearn.model_selection import train_test_split\n",
    "\n",
    "X_train, X_test, y_train, y_test = train_test_split(\n",
    "    df.vectorized_words,\n",
    "    df.label,\n",
    "    stratify=df.label,\n",
    "    test_size=0.2\n",
    ")"
   ],
   "id": "6039c60c3aa7528d",
   "outputs": [],
   "execution_count": 79
  },
  {
   "metadata": {
    "ExecuteTime": {
     "end_time": "2025-05-06T21:43:02.752534Z",
     "start_time": "2025-05-06T21:43:02.750086Z"
    }
   },
   "cell_type": "code",
   "source": "X_train.shape",
   "id": "e3e9fac1648ae884",
   "outputs": [
    {
     "data": {
      "text/plain": [
       "(12800,)"
      ]
     },
     "execution_count": 80,
     "metadata": {},
     "output_type": "execute_result"
    }
   ],
   "execution_count": 80
  },
  {
   "metadata": {
    "ExecuteTime": {
     "end_time": "2025-05-06T21:43:03.929467Z",
     "start_time": "2025-05-06T21:43:03.926121Z"
    }
   },
   "cell_type": "code",
   "source": "y_train.shape",
   "id": "93fa7830d082d92",
   "outputs": [
    {
     "data": {
      "text/plain": [
       "(12800,)"
      ]
     },
     "execution_count": 81,
     "metadata": {},
     "output_type": "execute_result"
    }
   ],
   "execution_count": 81
  },
  {
   "metadata": {
    "ExecuteTime": {
     "end_time": "2025-05-06T21:43:04.162146Z",
     "start_time": "2025-05-06T21:43:04.052928Z"
    }
   },
   "cell_type": "code",
   "source": [
    "from  sklearn.neighbors import KNeighborsClassifier\n",
    "import numpy as np\n",
    "\n",
    "X_train_array = np.vstack(X_train)\n",
    "X_test_array = np.vstack(X_test)\n",
    "\n",
    "model = KNeighborsClassifier(n_neighbors = 4, metric = 'euclidean')\n",
    "model.fit(X_train_array, y_train)\n",
    "y_pred = model.predict(X_test_array)\n"
   ],
   "id": "571ebbcc68d541b2",
   "outputs": [],
   "execution_count": 82
  },
  {
   "metadata": {
    "ExecuteTime": {
     "end_time": "2025-05-06T21:43:04.640003Z",
     "start_time": "2025-05-06T21:43:04.630122Z"
    }
   },
   "cell_type": "code",
   "source": [
    "from sklearn.metrics import classification_report\n",
    "\n",
    "print(classification_report(y_test, y_pred))"
   ],
   "id": "e3b06db543171c81",
   "outputs": [
    {
     "name": "stdout",
     "output_type": "stream",
     "text": [
      "              precision    recall  f1-score   support\n",
      "\n",
      "           0       0.34      0.53      0.42       933\n",
      "           1       0.38      0.41      0.39      1072\n",
      "           2       0.13      0.07      0.09       261\n",
      "           3       0.20      0.11      0.14       432\n",
      "           4       0.15      0.08      0.10       387\n",
      "           5       0.09      0.02      0.03       115\n",
      "\n",
      "    accuracy                           0.32      3200\n",
      "   macro avg       0.21      0.20      0.20      3200\n",
      "weighted avg       0.29      0.32      0.29      3200\n",
      "\n"
     ]
    }
   ],
   "execution_count": 83
  },
  {
   "metadata": {},
   "cell_type": "code",
   "outputs": [],
   "execution_count": null,
   "source": "",
   "id": "be335fe5b7326a3"
  }
 ],
 "metadata": {
  "kernelspec": {
   "display_name": ".mlenv",
   "language": "python",
   "name": "python3"
  },
  "language_info": {
   "codemirror_mode": {
    "name": "ipython",
    "version": 3
   },
   "file_extension": ".py",
   "mimetype": "text/x-python",
   "name": "python",
   "nbconvert_exporter": "python",
   "pygments_lexer": "ipython3",
   "version": "3.13.2"
  }
 },
 "nbformat": 4,
 "nbformat_minor": 5
}
